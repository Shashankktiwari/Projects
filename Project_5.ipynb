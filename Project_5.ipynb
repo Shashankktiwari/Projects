{
 "cells": [
  {
   "cell_type": "markdown",
   "metadata": {},
   "source": [
    "# Predicting the likelihood of e-signing a loan based on financial history"
   ]
  },
  {
   "cell_type": "markdown",
   "metadata": {},
   "source": [
    "## Problem Statement & Background\n",
    "\n",
    "Lending companies work by analyzing the financial history of their loan applicants, and choosing whether or not the applicant is too risky to be given a loan. \n",
    "\n",
    "When these companies do not have the data of their loan applicants, they sometimes partner with P2P (Peer 2 Peer) lending marketplaces, to acquire leads.\n",
    "\n",
    "In this project, we will assess the 'quality' of leads and develop a model to predict for quality applicants (people who reach the e-signing process). The company wants to identify the low quality applicants, i.e., people who may not be interested in the onboarding process so that it can experiment by providing different onboarding setups.\n",
    "\n",
    "**Data**: A dataset of all loan applicants\n",
    "\n",
    "**Product**: A loan\n",
    "\n",
    "\n"
   ]
  },
  {
   "cell_type": "markdown",
   "metadata": {},
   "source": [
    "## Step 1) Importing the data and data description"
   ]
  },
  {
   "cell_type": "code",
   "execution_count": 1,
   "metadata": {},
   "outputs": [],
   "source": [
    "#importing necessary packages\n",
    "import pandas as pd\n",
    "import matplotlib.pyplot as plt\n",
    "import numpy as np\n",
    "import seaborn as sns\n",
    "import random\n"
   ]
  },
  {
   "cell_type": "code",
   "execution_count": 2,
   "metadata": {},
   "outputs": [],
   "source": [
    "data=pd.read_csv('P39-Financial-Data.csv')"
   ]
  },
  {
   "cell_type": "code",
   "execution_count": 3,
   "metadata": {},
   "outputs": [
    {
     "data": {
      "text/html": [
       "<div>\n",
       "<style scoped>\n",
       "    .dataframe tbody tr th:only-of-type {\n",
       "        vertical-align: middle;\n",
       "    }\n",
       "\n",
       "    .dataframe tbody tr th {\n",
       "        vertical-align: top;\n",
       "    }\n",
       "\n",
       "    .dataframe thead th {\n",
       "        text-align: right;\n",
       "    }\n",
       "</style>\n",
       "<table border=\"1\" class=\"dataframe\">\n",
       "  <thead>\n",
       "    <tr style=\"text-align: right;\">\n",
       "      <th></th>\n",
       "      <th>entry_id</th>\n",
       "      <th>age</th>\n",
       "      <th>pay_schedule</th>\n",
       "      <th>home_owner</th>\n",
       "      <th>income</th>\n",
       "      <th>months_employed</th>\n",
       "      <th>years_employed</th>\n",
       "      <th>current_address_year</th>\n",
       "      <th>personal_account_m</th>\n",
       "      <th>personal_account_y</th>\n",
       "      <th>...</th>\n",
       "      <th>amount_requested</th>\n",
       "      <th>risk_score</th>\n",
       "      <th>risk_score_2</th>\n",
       "      <th>risk_score_3</th>\n",
       "      <th>risk_score_4</th>\n",
       "      <th>risk_score_5</th>\n",
       "      <th>ext_quality_score</th>\n",
       "      <th>ext_quality_score_2</th>\n",
       "      <th>inquiries_last_month</th>\n",
       "      <th>e_signed</th>\n",
       "    </tr>\n",
       "  </thead>\n",
       "  <tbody>\n",
       "    <tr>\n",
       "      <th>0</th>\n",
       "      <td>7629673</td>\n",
       "      <td>40</td>\n",
       "      <td>bi-weekly</td>\n",
       "      <td>1</td>\n",
       "      <td>3135</td>\n",
       "      <td>0</td>\n",
       "      <td>3</td>\n",
       "      <td>3</td>\n",
       "      <td>6</td>\n",
       "      <td>2</td>\n",
       "      <td>...</td>\n",
       "      <td>550</td>\n",
       "      <td>36200</td>\n",
       "      <td>0.737398</td>\n",
       "      <td>0.903517</td>\n",
       "      <td>0.487712</td>\n",
       "      <td>0.515977</td>\n",
       "      <td>0.580918</td>\n",
       "      <td>0.380918</td>\n",
       "      <td>10</td>\n",
       "      <td>1</td>\n",
       "    </tr>\n",
       "    <tr>\n",
       "      <th>1</th>\n",
       "      <td>3560428</td>\n",
       "      <td>61</td>\n",
       "      <td>weekly</td>\n",
       "      <td>0</td>\n",
       "      <td>3180</td>\n",
       "      <td>0</td>\n",
       "      <td>6</td>\n",
       "      <td>3</td>\n",
       "      <td>2</td>\n",
       "      <td>7</td>\n",
       "      <td>...</td>\n",
       "      <td>600</td>\n",
       "      <td>30150</td>\n",
       "      <td>0.738510</td>\n",
       "      <td>0.881027</td>\n",
       "      <td>0.713423</td>\n",
       "      <td>0.826402</td>\n",
       "      <td>0.730720</td>\n",
       "      <td>0.630720</td>\n",
       "      <td>9</td>\n",
       "      <td>0</td>\n",
       "    </tr>\n",
       "    <tr>\n",
       "      <th>2</th>\n",
       "      <td>6934997</td>\n",
       "      <td>23</td>\n",
       "      <td>weekly</td>\n",
       "      <td>0</td>\n",
       "      <td>1540</td>\n",
       "      <td>6</td>\n",
       "      <td>0</td>\n",
       "      <td>0</td>\n",
       "      <td>7</td>\n",
       "      <td>1</td>\n",
       "      <td>...</td>\n",
       "      <td>450</td>\n",
       "      <td>34550</td>\n",
       "      <td>0.642993</td>\n",
       "      <td>0.766554</td>\n",
       "      <td>0.595018</td>\n",
       "      <td>0.762284</td>\n",
       "      <td>0.531712</td>\n",
       "      <td>0.531712</td>\n",
       "      <td>7</td>\n",
       "      <td>0</td>\n",
       "    </tr>\n",
       "    <tr>\n",
       "      <th>3</th>\n",
       "      <td>5682812</td>\n",
       "      <td>40</td>\n",
       "      <td>bi-weekly</td>\n",
       "      <td>0</td>\n",
       "      <td>5230</td>\n",
       "      <td>0</td>\n",
       "      <td>6</td>\n",
       "      <td>1</td>\n",
       "      <td>2</td>\n",
       "      <td>7</td>\n",
       "      <td>...</td>\n",
       "      <td>700</td>\n",
       "      <td>42150</td>\n",
       "      <td>0.665224</td>\n",
       "      <td>0.960832</td>\n",
       "      <td>0.767828</td>\n",
       "      <td>0.778831</td>\n",
       "      <td>0.792552</td>\n",
       "      <td>0.592552</td>\n",
       "      <td>8</td>\n",
       "      <td>1</td>\n",
       "    </tr>\n",
       "    <tr>\n",
       "      <th>4</th>\n",
       "      <td>5335819</td>\n",
       "      <td>33</td>\n",
       "      <td>semi-monthly</td>\n",
       "      <td>0</td>\n",
       "      <td>3590</td>\n",
       "      <td>0</td>\n",
       "      <td>5</td>\n",
       "      <td>2</td>\n",
       "      <td>2</td>\n",
       "      <td>8</td>\n",
       "      <td>...</td>\n",
       "      <td>1100</td>\n",
       "      <td>53850</td>\n",
       "      <td>0.617361</td>\n",
       "      <td>0.857560</td>\n",
       "      <td>0.613487</td>\n",
       "      <td>0.665523</td>\n",
       "      <td>0.744634</td>\n",
       "      <td>0.744634</td>\n",
       "      <td>12</td>\n",
       "      <td>0</td>\n",
       "    </tr>\n",
       "  </tbody>\n",
       "</table>\n",
       "<p>5 rows × 21 columns</p>\n",
       "</div>"
      ],
      "text/plain": [
       "   entry_id  age  pay_schedule  home_owner  income  months_employed  \\\n",
       "0   7629673   40     bi-weekly           1    3135                0   \n",
       "1   3560428   61        weekly           0    3180                0   \n",
       "2   6934997   23        weekly           0    1540                6   \n",
       "3   5682812   40     bi-weekly           0    5230                0   \n",
       "4   5335819   33  semi-monthly           0    3590                0   \n",
       "\n",
       "   years_employed  current_address_year  personal_account_m  \\\n",
       "0               3                     3                   6   \n",
       "1               6                     3                   2   \n",
       "2               0                     0                   7   \n",
       "3               6                     1                   2   \n",
       "4               5                     2                   2   \n",
       "\n",
       "   personal_account_y  ...  amount_requested  risk_score  risk_score_2  \\\n",
       "0                   2  ...               550       36200      0.737398   \n",
       "1                   7  ...               600       30150      0.738510   \n",
       "2                   1  ...               450       34550      0.642993   \n",
       "3                   7  ...               700       42150      0.665224   \n",
       "4                   8  ...              1100       53850      0.617361   \n",
       "\n",
       "   risk_score_3  risk_score_4  risk_score_5  ext_quality_score  \\\n",
       "0      0.903517      0.487712      0.515977           0.580918   \n",
       "1      0.881027      0.713423      0.826402           0.730720   \n",
       "2      0.766554      0.595018      0.762284           0.531712   \n",
       "3      0.960832      0.767828      0.778831           0.792552   \n",
       "4      0.857560      0.613487      0.665523           0.744634   \n",
       "\n",
       "   ext_quality_score_2  inquiries_last_month  e_signed  \n",
       "0             0.380918                    10         1  \n",
       "1             0.630720                     9         0  \n",
       "2             0.531712                     7         0  \n",
       "3             0.592552                     8         1  \n",
       "4             0.744634                    12         0  \n",
       "\n",
       "[5 rows x 21 columns]"
      ]
     },
     "execution_count": 3,
     "metadata": {},
     "output_type": "execute_result"
    }
   ],
   "source": [
    "data.head()"
   ]
  },
  {
   "cell_type": "markdown",
   "metadata": {},
   "source": [
    "### Description of the fields:\n",
    "\n",
    "**entry_id**: unique identifier of the user\n",
    "\n",
    "**age**: age of the user (all entries are 18 and above)\n",
    "\n",
    "**pay_schedule**: how the user gets paid\n",
    "\n",
    "**home_owner**: 1: the customer owns a home & 0: the customer has rented the place\n",
    "\n",
    "**years_employed**: how many years the user has been employed for\n",
    "\n",
    "**personal_account_m**:  number of months a customer had a personal account for\n",
    "\n",
    "**personal_account_y**:  number of years a customer had a personal account for\n",
    "\n",
    "**has_debt**:  whether or not a customer has any debt or not\n",
    "\n",
    "**risk_score**: evaluates whether or not a user is likely to pay a loan (doesnt signify if a user will complete the onboarding process)\n",
    "\n",
    "**risk_score_2/3/4/5**: risk scores based on different factors\n",
    "\n",
    "**ext_quality_score**: scores obtained from the P2P marketplaces\n",
    "\n",
    "**inquiries_last_month** number of inquiries a user had last month"
   ]
  },
  {
   "cell_type": "markdown",
   "metadata": {},
   "source": [
    "## Step 2) EDA"
   ]
  },
  {
   "cell_type": "code",
   "execution_count": 4,
   "metadata": {},
   "outputs": [
    {
     "data": {
      "text/html": [
       "<div>\n",
       "<style scoped>\n",
       "    .dataframe tbody tr th:only-of-type {\n",
       "        vertical-align: middle;\n",
       "    }\n",
       "\n",
       "    .dataframe tbody tr th {\n",
       "        vertical-align: top;\n",
       "    }\n",
       "\n",
       "    .dataframe thead th {\n",
       "        text-align: right;\n",
       "    }\n",
       "</style>\n",
       "<table border=\"1\" class=\"dataframe\">\n",
       "  <thead>\n",
       "    <tr style=\"text-align: right;\">\n",
       "      <th></th>\n",
       "      <th>entry_id</th>\n",
       "      <th>age</th>\n",
       "      <th>home_owner</th>\n",
       "      <th>income</th>\n",
       "      <th>months_employed</th>\n",
       "      <th>years_employed</th>\n",
       "      <th>current_address_year</th>\n",
       "      <th>personal_account_m</th>\n",
       "      <th>personal_account_y</th>\n",
       "      <th>has_debt</th>\n",
       "      <th>amount_requested</th>\n",
       "      <th>risk_score</th>\n",
       "      <th>risk_score_2</th>\n",
       "      <th>risk_score_3</th>\n",
       "      <th>risk_score_4</th>\n",
       "      <th>risk_score_5</th>\n",
       "      <th>ext_quality_score</th>\n",
       "      <th>ext_quality_score_2</th>\n",
       "      <th>inquiries_last_month</th>\n",
       "      <th>e_signed</th>\n",
       "    </tr>\n",
       "  </thead>\n",
       "  <tbody>\n",
       "    <tr>\n",
       "      <th>count</th>\n",
       "      <td>1.790800e+04</td>\n",
       "      <td>17908.000000</td>\n",
       "      <td>17908.000000</td>\n",
       "      <td>17908.000000</td>\n",
       "      <td>17908.000000</td>\n",
       "      <td>17908.000000</td>\n",
       "      <td>17908.000000</td>\n",
       "      <td>17908.000000</td>\n",
       "      <td>17908.000000</td>\n",
       "      <td>17908.000000</td>\n",
       "      <td>17908.000000</td>\n",
       "      <td>17908.000000</td>\n",
       "      <td>17908.000000</td>\n",
       "      <td>17908.000000</td>\n",
       "      <td>17908.000000</td>\n",
       "      <td>17908.000000</td>\n",
       "      <td>17908.000000</td>\n",
       "      <td>17908.000000</td>\n",
       "      <td>17908.000000</td>\n",
       "      <td>17908.000000</td>\n",
       "    </tr>\n",
       "    <tr>\n",
       "      <th>mean</th>\n",
       "      <td>5.596978e+06</td>\n",
       "      <td>43.015412</td>\n",
       "      <td>0.425173</td>\n",
       "      <td>3657.214653</td>\n",
       "      <td>1.186006</td>\n",
       "      <td>3.526860</td>\n",
       "      <td>3.584711</td>\n",
       "      <td>3.427183</td>\n",
       "      <td>3.503350</td>\n",
       "      <td>0.795399</td>\n",
       "      <td>950.446449</td>\n",
       "      <td>61086.302211</td>\n",
       "      <td>0.690878</td>\n",
       "      <td>0.878276</td>\n",
       "      <td>0.583155</td>\n",
       "      <td>0.718252</td>\n",
       "      <td>0.623112</td>\n",
       "      <td>0.622068</td>\n",
       "      <td>6.457226</td>\n",
       "      <td>0.538251</td>\n",
       "    </tr>\n",
       "    <tr>\n",
       "      <th>std</th>\n",
       "      <td>2.562473e+06</td>\n",
       "      <td>11.873107</td>\n",
       "      <td>0.494383</td>\n",
       "      <td>1504.890063</td>\n",
       "      <td>2.400897</td>\n",
       "      <td>2.259732</td>\n",
       "      <td>2.751937</td>\n",
       "      <td>2.216440</td>\n",
       "      <td>1.955568</td>\n",
       "      <td>0.403421</td>\n",
       "      <td>698.543683</td>\n",
       "      <td>15394.255020</td>\n",
       "      <td>0.090470</td>\n",
       "      <td>0.054563</td>\n",
       "      <td>0.125061</td>\n",
       "      <td>0.120697</td>\n",
       "      <td>0.139729</td>\n",
       "      <td>0.139898</td>\n",
       "      <td>3.673093</td>\n",
       "      <td>0.498549</td>\n",
       "    </tr>\n",
       "    <tr>\n",
       "      <th>min</th>\n",
       "      <td>1.111398e+06</td>\n",
       "      <td>18.000000</td>\n",
       "      <td>0.000000</td>\n",
       "      <td>905.000000</td>\n",
       "      <td>0.000000</td>\n",
       "      <td>0.000000</td>\n",
       "      <td>0.000000</td>\n",
       "      <td>0.000000</td>\n",
       "      <td>0.000000</td>\n",
       "      <td>0.000000</td>\n",
       "      <td>350.000000</td>\n",
       "      <td>2100.000000</td>\n",
       "      <td>0.023258</td>\n",
       "      <td>0.451371</td>\n",
       "      <td>0.016724</td>\n",
       "      <td>0.153367</td>\n",
       "      <td>0.010184</td>\n",
       "      <td>0.006622</td>\n",
       "      <td>1.000000</td>\n",
       "      <td>0.000000</td>\n",
       "    </tr>\n",
       "    <tr>\n",
       "      <th>25%</th>\n",
       "      <td>3.378999e+06</td>\n",
       "      <td>34.000000</td>\n",
       "      <td>0.000000</td>\n",
       "      <td>2580.000000</td>\n",
       "      <td>0.000000</td>\n",
       "      <td>2.000000</td>\n",
       "      <td>2.000000</td>\n",
       "      <td>2.000000</td>\n",
       "      <td>2.000000</td>\n",
       "      <td>1.000000</td>\n",
       "      <td>600.000000</td>\n",
       "      <td>49350.000000</td>\n",
       "      <td>0.640993</td>\n",
       "      <td>0.850882</td>\n",
       "      <td>0.500208</td>\n",
       "      <td>0.633708</td>\n",
       "      <td>0.521735</td>\n",
       "      <td>0.519677</td>\n",
       "      <td>4.000000</td>\n",
       "      <td>0.000000</td>\n",
       "    </tr>\n",
       "    <tr>\n",
       "      <th>50%</th>\n",
       "      <td>5.608376e+06</td>\n",
       "      <td>42.000000</td>\n",
       "      <td>0.000000</td>\n",
       "      <td>3260.000000</td>\n",
       "      <td>0.000000</td>\n",
       "      <td>3.000000</td>\n",
       "      <td>3.000000</td>\n",
       "      <td>2.000000</td>\n",
       "      <td>3.000000</td>\n",
       "      <td>1.000000</td>\n",
       "      <td>700.000000</td>\n",
       "      <td>61200.000000</td>\n",
       "      <td>0.699561</td>\n",
       "      <td>0.881004</td>\n",
       "      <td>0.588208</td>\n",
       "      <td>0.725113</td>\n",
       "      <td>0.625944</td>\n",
       "      <td>0.622974</td>\n",
       "      <td>6.000000</td>\n",
       "      <td>1.000000</td>\n",
       "    </tr>\n",
       "    <tr>\n",
       "      <th>75%</th>\n",
       "      <td>7.805624e+06</td>\n",
       "      <td>51.000000</td>\n",
       "      <td>1.000000</td>\n",
       "      <td>4670.000000</td>\n",
       "      <td>1.000000</td>\n",
       "      <td>5.000000</td>\n",
       "      <td>5.000000</td>\n",
       "      <td>5.000000</td>\n",
       "      <td>4.000000</td>\n",
       "      <td>1.000000</td>\n",
       "      <td>1100.000000</td>\n",
       "      <td>72750.000000</td>\n",
       "      <td>0.752887</td>\n",
       "      <td>0.912608</td>\n",
       "      <td>0.672395</td>\n",
       "      <td>0.806681</td>\n",
       "      <td>0.729841</td>\n",
       "      <td>0.728940</td>\n",
       "      <td>8.000000</td>\n",
       "      <td>1.000000</td>\n",
       "    </tr>\n",
       "    <tr>\n",
       "      <th>max</th>\n",
       "      <td>9.999874e+06</td>\n",
       "      <td>96.000000</td>\n",
       "      <td>1.000000</td>\n",
       "      <td>9985.000000</td>\n",
       "      <td>11.000000</td>\n",
       "      <td>16.000000</td>\n",
       "      <td>12.000000</td>\n",
       "      <td>11.000000</td>\n",
       "      <td>15.000000</td>\n",
       "      <td>1.000000</td>\n",
       "      <td>10200.000000</td>\n",
       "      <td>99750.000000</td>\n",
       "      <td>0.999997</td>\n",
       "      <td>0.999024</td>\n",
       "      <td>0.978932</td>\n",
       "      <td>0.996260</td>\n",
       "      <td>0.970249</td>\n",
       "      <td>0.966953</td>\n",
       "      <td>30.000000</td>\n",
       "      <td>1.000000</td>\n",
       "    </tr>\n",
       "  </tbody>\n",
       "</table>\n",
       "</div>"
      ],
      "text/plain": [
       "           entry_id           age    home_owner        income  \\\n",
       "count  1.790800e+04  17908.000000  17908.000000  17908.000000   \n",
       "mean   5.596978e+06     43.015412      0.425173   3657.214653   \n",
       "std    2.562473e+06     11.873107      0.494383   1504.890063   \n",
       "min    1.111398e+06     18.000000      0.000000    905.000000   \n",
       "25%    3.378999e+06     34.000000      0.000000   2580.000000   \n",
       "50%    5.608376e+06     42.000000      0.000000   3260.000000   \n",
       "75%    7.805624e+06     51.000000      1.000000   4670.000000   \n",
       "max    9.999874e+06     96.000000      1.000000   9985.000000   \n",
       "\n",
       "       months_employed  years_employed  current_address_year  \\\n",
       "count     17908.000000    17908.000000          17908.000000   \n",
       "mean          1.186006        3.526860              3.584711   \n",
       "std           2.400897        2.259732              2.751937   \n",
       "min           0.000000        0.000000              0.000000   \n",
       "25%           0.000000        2.000000              2.000000   \n",
       "50%           0.000000        3.000000              3.000000   \n",
       "75%           1.000000        5.000000              5.000000   \n",
       "max          11.000000       16.000000             12.000000   \n",
       "\n",
       "       personal_account_m  personal_account_y      has_debt  amount_requested  \\\n",
       "count        17908.000000        17908.000000  17908.000000      17908.000000   \n",
       "mean             3.427183            3.503350      0.795399        950.446449   \n",
       "std              2.216440            1.955568      0.403421        698.543683   \n",
       "min              0.000000            0.000000      0.000000        350.000000   \n",
       "25%              2.000000            2.000000      1.000000        600.000000   \n",
       "50%              2.000000            3.000000      1.000000        700.000000   \n",
       "75%              5.000000            4.000000      1.000000       1100.000000   \n",
       "max             11.000000           15.000000      1.000000      10200.000000   \n",
       "\n",
       "         risk_score  risk_score_2  risk_score_3  risk_score_4  risk_score_5  \\\n",
       "count  17908.000000  17908.000000  17908.000000  17908.000000  17908.000000   \n",
       "mean   61086.302211      0.690878      0.878276      0.583155      0.718252   \n",
       "std    15394.255020      0.090470      0.054563      0.125061      0.120697   \n",
       "min     2100.000000      0.023258      0.451371      0.016724      0.153367   \n",
       "25%    49350.000000      0.640993      0.850882      0.500208      0.633708   \n",
       "50%    61200.000000      0.699561      0.881004      0.588208      0.725113   \n",
       "75%    72750.000000      0.752887      0.912608      0.672395      0.806681   \n",
       "max    99750.000000      0.999997      0.999024      0.978932      0.996260   \n",
       "\n",
       "       ext_quality_score  ext_quality_score_2  inquiries_last_month  \\\n",
       "count       17908.000000         17908.000000          17908.000000   \n",
       "mean            0.623112             0.622068              6.457226   \n",
       "std             0.139729             0.139898              3.673093   \n",
       "min             0.010184             0.006622              1.000000   \n",
       "25%             0.521735             0.519677              4.000000   \n",
       "50%             0.625944             0.622974              6.000000   \n",
       "75%             0.729841             0.728940              8.000000   \n",
       "max             0.970249             0.966953             30.000000   \n",
       "\n",
       "           e_signed  \n",
       "count  17908.000000  \n",
       "mean       0.538251  \n",
       "std        0.498549  \n",
       "min        0.000000  \n",
       "25%        0.000000  \n",
       "50%        1.000000  \n",
       "75%        1.000000  \n",
       "max        1.000000  "
      ]
     },
     "execution_count": 4,
     "metadata": {},
     "output_type": "execute_result"
    }
   ],
   "source": [
    "# a description of the numerical columns of the dataset\n",
    "data.describe()"
   ]
  },
  {
   "cell_type": "markdown",
   "metadata": {},
   "source": [
    "### Notes\n",
    "\n",
    "* Max age is 96 years old.\n",
    "\n",
    "* Lowest income is 905.\n",
    "\n",
    "* Max years employed is 16\n",
    "\n",
    "* 79% of the people have debt\n",
    "\n",
    "* Average amount requested is 950.\n",
    "\n",
    "* Almost half of the users have e-signed. (balanced dataset)\n"
   ]
  },
  {
   "cell_type": "code",
   "execution_count": 5,
   "metadata": {},
   "outputs": [
    {
     "data": {
      "text/plain": [
       "entry_id                0\n",
       "age                     0\n",
       "pay_schedule            0\n",
       "home_owner              0\n",
       "income                  0\n",
       "months_employed         0\n",
       "years_employed          0\n",
       "current_address_year    0\n",
       "personal_account_m      0\n",
       "personal_account_y      0\n",
       "has_debt                0\n",
       "amount_requested        0\n",
       "risk_score              0\n",
       "risk_score_2            0\n",
       "risk_score_3            0\n",
       "risk_score_4            0\n",
       "risk_score_5            0\n",
       "ext_quality_score       0\n",
       "ext_quality_score_2     0\n",
       "inquiries_last_month    0\n",
       "e_signed                0\n",
       "dtype: int64"
      ]
     },
     "execution_count": 5,
     "metadata": {},
     "output_type": "execute_result"
    }
   ],
   "source": [
    "# Cleaning the dataset\n",
    "data.isna().sum()\n",
    "#there are no null values present"
   ]
  },
  {
   "cell_type": "markdown",
   "metadata": {},
   "source": [
    "### Histograms"
   ]
  },
  {
   "cell_type": "code",
   "execution_count": 6,
   "metadata": {},
   "outputs": [],
   "source": [
    "# creating a new dataset with columns needed for the histogram\n",
    "\n",
    "data2=data.drop(columns=['entry_id','pay_schedule','e_signed'])"
   ]
  },
  {
   "cell_type": "code",
   "execution_count": 7,
   "metadata": {},
   "outputs": [
    {
     "data": {
      "image/png": "[encoded data removed]",
      "text/plain": [
       "<Figure size 1080x864 with 18 Axes>"
      ]
     },
     "metadata": {
      "needs_background": "light"
     },
     "output_type": "display_data"
    }
   ],
   "source": [
    "fig=plt.figure(figsize=(15,12))\n",
    "plt.suptitle('Histograms of numerical columns',fontsize=25)\n",
    "\n",
    "for i in range(data2.shape[1]):\n",
    "    plt.subplot(6,3,i+1)\n",
    "    f=plt.gca()\n",
    "    f.set_title(data2.columns.values[i])\n",
    "    \n",
    "    vals=np.size(data2.iloc[:,i].unique())\n",
    "    \n",
    "    #to ensure the plots do not take long enough to be created.\n",
    "    #if there are more than 100 bins, it will limit it to 100.\n",
    "    if vals>100:\n",
    "        vals=100\n",
    "        \n",
    "    plt.hist(data2.iloc[:,i],bins=vals,color='#3F5D7D')\n",
    "    \n",
    "plt.tight_layout(rect=[0,0.03,1,0.95])"
   ]
  },
  {
   "cell_type": "markdown",
   "metadata": {},
   "source": [
    "### Notes:\n",
    "\n",
    "* Home owner histogram is almost evenly distributed.\n",
    "\n",
    "* Income seems to be most likely a right-skewed normal distribution.\n",
    "\n",
    "* Its a little range that so many users have 0 values in 'months_employed'. It requires further scrutiny.\n",
    "\n",
    "* 'current_address_year', 'personal_account_m','personal_account_y', 'years_employed' also seem to have a right skewed distribution.\n",
    "\n",
    "* 'amount requested' is mostly below 2000.\n",
    "\n",
    "* risk scores seem to be normally distributed except 'risk_score_3'.\n",
    "\n",
    "* 'inquiries_last_month' is mainly between 3 and 10.\n",
    "\n",
    "\n"
   ]
  },
  {
   "cell_type": "markdown",
   "metadata": {},
   "source": [
    "### Correlations"
   ]
  },
  {
   "cell_type": "code",
   "execution_count": 8,
   "metadata": {},
   "outputs": [
    {
     "data": {
      "text/plain": [
       "<AxesSubplot:title={'center':'Correlation with response variable'}>"
      ]
     },
     "execution_count": 8,
     "metadata": {},
     "output_type": "execute_result"
    },
    {
     "data": {
      "image/png": "[encoded data removed]",
      "text/plain": [
       "<Figure size 1440x720 with 1 Axes>"
      ]
     },
     "metadata": {
      "needs_background": "light"
     },
     "output_type": "display_data"
    }
   ],
   "source": [
    "data2.corrwith(data['e_signed']).plot(kind='bar',\n",
    "                                     title='Correlation with response variable',\n",
    "                                     figsize=(20,10),\n",
    "                                     fontsize=15,\n",
    "                                     rot=45,  #rotating the x-ticks by 45 degrees\n",
    "                                     grid=True)  #adding a grid to the background"
   ]
  },
  {
   "cell_type": "markdown",
   "metadata": {},
   "source": [
    "### Notes:\n",
    "\n",
    "* This plot assumes linear correlation which may not be true when models like Random Forest is utilized.\n",
    "\n",
    "* 'age' is strongly negatively correlated, i.e., the older a user is, more likelier he/she is to complete the onboarding process.\n",
    "\n",
    "* 'home_owner' is also negatively correlated, i.e., people who are renting a place are not likely to complete the onboarding process.\n",
    "\n",
    "* 'income' is positively correlated.\n",
    "\n",
    "* 'has_debt', 'amount_requested', 'risk_score' have the strongest positive correlations.\n",
    "\n",
    "* None of the features are normalized yet. This will be done in the data preprocessing part\n",
    "\n",
    "* Lastly, 'inquiries_last_month' has a negative correlatio, i.e., the more inquiries a user has, the lesser the chances are of the user completing the onboarding process."
   ]
  },
  {
   "cell_type": "markdown",
   "metadata": {},
   "source": [
    "### Correlation matrix"
   ]
  },
  {
   "cell_type": "code",
   "execution_count": 9,
   "metadata": {},
   "outputs": [
    {
     "data": {
      "text/plain": [
       "<AxesSubplot:>"
      ]
     },
     "execution_count": 9,
     "metadata": {},
     "output_type": "execute_result"
    },
    {
     "data": {
      "image/png": "[encoded data removed]",
      "text/plain": [
       "<Figure size 1296x1080 with 2 Axes>"
      ]
     },
     "metadata": {},
     "output_type": "display_data"
    }
   ],
   "source": [
    "sns.set(style='white')\n",
    "\n",
    "#computing the correlation matrix\n",
    "corr=data2.corr()\n",
    "\n",
    "#generate a mask for the upper triangle\n",
    "mask=np.zeros_like(corr,dtype=np.bool)\n",
    "mask[np.triu_indices_from(mask)]=True\n",
    "\n",
    "#setting up the matplotlib figure\n",
    "f,ax=plt.subplots(figsize=(18,15))\n",
    "\n",
    "#generating a custom diverging colormap\n",
    "cmap=sns.diverging_palette(220,10,as_cmap=True)\n",
    "\n",
    "#drawing the heatmap with the mask and correct aspect ratio\n",
    "sns.heatmap(corr, mask=mask, cmap=cmap,vmax=.3,\n",
    "           center=0,square=True,linewidth=.5,\n",
    "           cbar_kws={'shrink':.5})"
   ]
  },
  {
   "cell_type": "markdown",
   "metadata": {},
   "source": [
    "### Notes:\n",
    "\n",
    "* Age is somewhat related to the risk scores, 'income' and 'years_employed'.\n",
    "\n",
    "* Dark red color signify a strong relationship. However, the strongest relationship is 0.3 which is not very strong relationship in reality.\n",
    "\n",
    "* 'amount_requested' and 'income' have a significantly strong relationship, i.e., the more a person earns, the higher is the amount requested by him/her/they.\n",
    "\n",
    "* 'years_employed' and 'current_address_year' have a strong relationship which is self-explanatory.\n",
    "\n",
    "* Lower right area of the triangle have a bunch of relationships which are strong.\n",
    "\n",
    "* There is, however, no need to remove variables since no value is greater than 0.3"
   ]
  },
  {
   "cell_type": "markdown",
   "metadata": {},
   "source": [
    "## Step 3) Data Preprocessing"
   ]
  },
  {
   "cell_type": "markdown",
   "metadata": {},
   "source": [
    "### Feature Engineering"
   ]
  },
  {
   "cell_type": "code",
   "execution_count": 10,
   "metadata": {},
   "outputs": [],
   "source": [
    "import time\n",
    "#to replicate results in the future\n",
    "random.seed(100)"
   ]
  },
  {
   "cell_type": "code",
   "execution_count": 11,
   "metadata": {},
   "outputs": [],
   "source": [
    "#dropping columns which are not needed\n",
    "#'months_employed'-since it mostly contains zeros.\n",
    "\n",
    "data=data.drop(columns=['months_employed'])"
   ]
  },
  {
   "cell_type": "code",
   "execution_count": 12,
   "metadata": {},
   "outputs": [],
   "source": [
    "#to get a more centralized dataset, we will combine 'personal_account_y' and 'personal_account_m'\n",
    "\n",
    "data['personal_account_months']=(data.personal_account_y*12 + data.personal_account_m)"
   ]
  },
  {
   "cell_type": "code",
   "execution_count": 13,
   "metadata": {},
   "outputs": [
    {
     "data": {
      "text/html": [
       "<div>\n",
       "<style scoped>\n",
       "    .dataframe tbody tr th:only-of-type {\n",
       "        vertical-align: middle;\n",
       "    }\n",
       "\n",
       "    .dataframe tbody tr th {\n",
       "        vertical-align: top;\n",
       "    }\n",
       "\n",
       "    .dataframe thead th {\n",
       "        text-align: right;\n",
       "    }\n",
       "</style>\n",
       "<table border=\"1\" class=\"dataframe\">\n",
       "  <thead>\n",
       "    <tr style=\"text-align: right;\">\n",
       "      <th></th>\n",
       "      <th>personal_account_m</th>\n",
       "      <th>personal_account_y</th>\n",
       "      <th>personal_account_months</th>\n",
       "    </tr>\n",
       "  </thead>\n",
       "  <tbody>\n",
       "    <tr>\n",
       "      <th>0</th>\n",
       "      <td>6</td>\n",
       "      <td>2</td>\n",
       "      <td>30</td>\n",
       "    </tr>\n",
       "    <tr>\n",
       "      <th>1</th>\n",
       "      <td>2</td>\n",
       "      <td>7</td>\n",
       "      <td>86</td>\n",
       "    </tr>\n",
       "    <tr>\n",
       "      <th>2</th>\n",
       "      <td>7</td>\n",
       "      <td>1</td>\n",
       "      <td>19</td>\n",
       "    </tr>\n",
       "    <tr>\n",
       "      <th>3</th>\n",
       "      <td>2</td>\n",
       "      <td>7</td>\n",
       "      <td>86</td>\n",
       "    </tr>\n",
       "    <tr>\n",
       "      <th>4</th>\n",
       "      <td>2</td>\n",
       "      <td>8</td>\n",
       "      <td>98</td>\n",
       "    </tr>\n",
       "  </tbody>\n",
       "</table>\n",
       "</div>"
      ],
      "text/plain": [
       "   personal_account_m  personal_account_y  personal_account_months\n",
       "0                   6                   2                       30\n",
       "1                   2                   7                       86\n",
       "2                   7                   1                       19\n",
       "3                   2                   7                       86\n",
       "4                   2                   8                       98"
      ]
     },
     "execution_count": 13,
     "metadata": {},
     "output_type": "execute_result"
    }
   ],
   "source": [
    "data[['personal_account_m','personal_account_y','personal_account_months']].head()"
   ]
  },
  {
   "cell_type": "code",
   "execution_count": 14,
   "metadata": {},
   "outputs": [],
   "source": [
    "data=data.drop(columns=['personal_account_m','personal_account_y'])"
   ]
  },
  {
   "cell_type": "markdown",
   "metadata": {},
   "source": [
    "### One hot encoding & Feature Scaling"
   ]
  },
  {
   "cell_type": "code",
   "execution_count": 15,
   "metadata": {},
   "outputs": [],
   "source": [
    "#one hot encoding categorical columns such as 'pay_schedule'\n",
    "data=pd.get_dummies(data)"
   ]
  },
  {
   "cell_type": "code",
   "execution_count": 16,
   "metadata": {},
   "outputs": [
    {
     "data": {
      "text/plain": [
       "Index(['entry_id', 'age', 'home_owner', 'income', 'years_employed',\n",
       "       'current_address_year', 'has_debt', 'amount_requested', 'risk_score',\n",
       "       'risk_score_2', 'risk_score_3', 'risk_score_4', 'risk_score_5',\n",
       "       'ext_quality_score', 'ext_quality_score_2', 'inquiries_last_month',\n",
       "       'e_signed', 'personal_account_months', 'pay_schedule_bi-weekly',\n",
       "       'pay_schedule_monthly', 'pay_schedule_semi-monthly',\n",
       "       'pay_schedule_weekly'],\n",
       "      dtype='object')"
      ]
     },
     "execution_count": 16,
     "metadata": {},
     "output_type": "execute_result"
    }
   ],
   "source": [
    "data.columns"
   ]
  },
  {
   "cell_type": "code",
   "execution_count": 17,
   "metadata": {},
   "outputs": [],
   "source": [
    "#we need to remove one of these dummy columns to avoid dependency.\n",
    "\n",
    "data=data.drop(columns=['pay_schedule_semi-monthly'])"
   ]
  },
  {
   "cell_type": "code",
   "execution_count": 18,
   "metadata": {},
   "outputs": [],
   "source": [
    "#removing extra columns\n",
    "response=data['e_signed']\n",
    "user=data['entry_id']"
   ]
  },
  {
   "cell_type": "code",
   "execution_count": 19,
   "metadata": {},
   "outputs": [],
   "source": [
    "data=data.drop(columns=['entry_id','e_signed'])"
   ]
  },
  {
   "cell_type": "code",
   "execution_count": 20,
   "metadata": {},
   "outputs": [],
   "source": [
    "# Splitting into training and testing\n",
    "\n",
    "from sklearn.model_selection import train_test_split\n",
    "\n",
    "X_train,X_test, y_train, y_test=train_test_split(data, response, \n",
    "                                                test_size=0.2,\n",
    "                                                random_state=0)"
   ]
  },
  {
   "cell_type": "code",
   "execution_count": 21,
   "metadata": {},
   "outputs": [],
   "source": [
    "#Feature scaling\n",
    "\n",
    "from sklearn.preprocessing import StandardScaler\n",
    "\n",
    "sc=StandardScaler()\n",
    "\n",
    "#the result is going to be an array, losing the index and column names.\n",
    "\n",
    "X_train2=pd.DataFrame(sc.fit_transform(X_train))\n",
    "X_test2=pd.DataFrame(sc.transform(X_test))\n",
    "\n",
    "#assigning column names\n",
    "X_train2.columns=X_train.columns.values\n",
    "X_test.columns=X_test.columns.values\n",
    "\n",
    "#assigning index values\n",
    "X_train2.index=X_train.index.values\n",
    "X_test2.index=X_test.index.values\n",
    "\n",
    "#setting the orignal set to be normalized ones\n",
    "X_train=X_train2\n",
    "X_test=X_test2\n",
    "\n"
   ]
  },
  {
   "cell_type": "markdown",
   "metadata": {},
   "source": [
    "## Step 4) Model building"
   ]
  },
  {
   "cell_type": "markdown",
   "metadata": {},
   "source": [
    "### 1) Logistic Regression"
   ]
  },
  {
   "cell_type": "code",
   "execution_count": 59,
   "metadata": {},
   "outputs": [],
   "source": [
    "from sklearn.linear_model import LogisticRegression\n",
    "\n",
    "#L2 (ridge) penalty so that any variable with a high coefficient is penalized.\n",
    "classifier=LogisticRegression(random_state=0, penalty='l2')"
   ]
  },
  {
   "cell_type": "code",
   "execution_count": 60,
   "metadata": {},
   "outputs": [
    {
     "data": {
      "text/plain": [
       "LogisticRegression(random_state=0)"
      ]
     },
     "execution_count": 60,
     "metadata": {},
     "output_type": "execute_result"
    }
   ],
   "source": [
    "#fitting the model\n",
    "classifier.fit(X_train, y_train)"
   ]
  },
  {
   "cell_type": "code",
   "execution_count": 61,
   "metadata": {},
   "outputs": [],
   "source": [
    "#predicting values\n",
    "y_pred=classifier.predict(X_test)"
   ]
  },
  {
   "cell_type": "markdown",
   "metadata": {},
   "source": [
    "#### Model Evaluation"
   ]
  },
  {
   "cell_type": "code",
   "execution_count": 62,
   "metadata": {},
   "outputs": [],
   "source": [
    "from sklearn.metrics import confusion_matrix, accuracy_score, f1_score, precision_score, recall_score\n",
    "cm = confusion_matrix(y_test, y_pred)\n",
    "\n",
    "#calculating the values to evaluate model performance.\n",
    "acc=accuracy_score(y_test,y_pred)\n",
    "prec=precision_score(y_test,y_pred)\n",
    "rec=recall_score(y_test,y_pred)\n",
    "f1=f1_score(y_test,y_pred)"
   ]
  },
  {
   "cell_type": "code",
   "execution_count": 63,
   "metadata": {},
   "outputs": [],
   "source": [
    "#converting the values into a dataframe\n",
    "results=pd.DataFrame([['Logistic Regression',acc, prec, rec, f1]],\n",
    "                     columns=['Model','Accuracy','Precision','Recall','F1 score'])"
   ]
  },
  {
   "cell_type": "code",
   "execution_count": 64,
   "metadata": {},
   "outputs": [
    {
     "data": {
      "text/html": [
       "<div>\n",
       "<style scoped>\n",
       "    .dataframe tbody tr th:only-of-type {\n",
       "        vertical-align: middle;\n",
       "    }\n",
       "\n",
       "    .dataframe tbody tr th {\n",
       "        vertical-align: top;\n",
       "    }\n",
       "\n",
       "    .dataframe thead th {\n",
       "        text-align: right;\n",
       "    }\n",
       "</style>\n",
       "<table border=\"1\" class=\"dataframe\">\n",
       "  <thead>\n",
       "    <tr style=\"text-align: right;\">\n",
       "      <th></th>\n",
       "      <th>Model</th>\n",
       "      <th>Accuracy</th>\n",
       "      <th>Precision</th>\n",
       "      <th>Recall</th>\n",
       "      <th>F1 score</th>\n",
       "    </tr>\n",
       "  </thead>\n",
       "  <tbody>\n",
       "    <tr>\n",
       "      <th>0</th>\n",
       "      <td>Logistic Regression</td>\n",
       "      <td>0.562535</td>\n",
       "      <td>0.576386</td>\n",
       "      <td>0.706432</td>\n",
       "      <td>0.634817</td>\n",
       "    </tr>\n",
       "  </tbody>\n",
       "</table>\n",
       "</div>"
      ],
      "text/plain": [
       "                 Model  Accuracy  Precision    Recall  F1 score\n",
       "0  Logistic Regression  0.562535   0.576386  0.706432  0.634817"
      ]
     },
     "execution_count": 64,
     "metadata": {},
     "output_type": "execute_result"
    }
   ],
   "source": [
    "#viewing the dataframe\n",
    "results"
   ]
  },
  {
   "cell_type": "markdown",
   "metadata": {},
   "source": [
    "**Recall is high, indicating tha the model has bias.**"
   ]
  },
  {
   "cell_type": "markdown",
   "metadata": {},
   "source": [
    "### 2) Support Vector Machines (Linear)"
   ]
  },
  {
   "cell_type": "code",
   "execution_count": 65,
   "metadata": {},
   "outputs": [],
   "source": [
    "from sklearn.svm import SVC\n",
    "\n",
    "#creating an object\n",
    "classifier=SVC(random_state=0, kernel='linear')\n",
    "\n",
    "#fitting the model\n",
    "classifier.fit(X_train, y_train)\n",
    "\n",
    "#predicting values\n",
    "y_pred2=classifier.predict(X_test)\n",
    "\n"
   ]
  },
  {
   "cell_type": "markdown",
   "metadata": {},
   "source": [
    "#### Model Evaluation"
   ]
  },
  {
   "cell_type": "code",
   "execution_count": 66,
   "metadata": {},
   "outputs": [],
   "source": [
    "#calculating the values to evaluate model performance.\n",
    "acc2=accuracy_score(y_test,y_pred2)\n",
    "prec2=precision_score(y_test,y_pred2)\n",
    "rec2=recall_score(y_test,y_pred2)\n",
    "f12=f1_score(y_test,y_pred2)\n",
    "\n",
    "model_results=pd.DataFrame([['SVM (linear)',acc2, prec2, rec2, f12]],\n",
    "                     columns=['Model','Accuracy','Precision','Recall','F1 score'])\n",
    "\n",
    "results=results.append(model_results, ignore_index=True)"
   ]
  },
  {
   "cell_type": "code",
   "execution_count": 67,
   "metadata": {},
   "outputs": [
    {
     "data": {
      "text/html": [
       "<div>\n",
       "<style scoped>\n",
       "    .dataframe tbody tr th:only-of-type {\n",
       "        vertical-align: middle;\n",
       "    }\n",
       "\n",
       "    .dataframe tbody tr th {\n",
       "        vertical-align: top;\n",
       "    }\n",
       "\n",
       "    .dataframe thead th {\n",
       "        text-align: right;\n",
       "    }\n",
       "</style>\n",
       "<table border=\"1\" class=\"dataframe\">\n",
       "  <thead>\n",
       "    <tr style=\"text-align: right;\">\n",
       "      <th></th>\n",
       "      <th>Model</th>\n",
       "      <th>Accuracy</th>\n",
       "      <th>Precision</th>\n",
       "      <th>Recall</th>\n",
       "      <th>F1 score</th>\n",
       "    </tr>\n",
       "  </thead>\n",
       "  <tbody>\n",
       "    <tr>\n",
       "      <th>0</th>\n",
       "      <td>Logistic Regression</td>\n",
       "      <td>0.562535</td>\n",
       "      <td>0.576386</td>\n",
       "      <td>0.706432</td>\n",
       "      <td>0.634817</td>\n",
       "    </tr>\n",
       "    <tr>\n",
       "      <th>1</th>\n",
       "      <td>SVM (linear)</td>\n",
       "      <td>0.568398</td>\n",
       "      <td>0.577769</td>\n",
       "      <td>0.735996</td>\n",
       "      <td>0.647354</td>\n",
       "    </tr>\n",
       "  </tbody>\n",
       "</table>\n",
       "</div>"
      ],
      "text/plain": [
       "                 Model  Accuracy  Precision    Recall  F1 score\n",
       "0  Logistic Regression  0.562535   0.576386  0.706432  0.634817\n",
       "1         SVM (linear)  0.568398   0.577769  0.735996  0.647354"
      ]
     },
     "execution_count": 67,
     "metadata": {},
     "output_type": "execute_result"
    }
   ],
   "source": [
    "results"
   ]
  },
  {
   "cell_type": "markdown",
   "metadata": {},
   "source": [
    "### 3) Support Vector Machines (RBF)"
   ]
  },
  {
   "cell_type": "code",
   "execution_count": 68,
   "metadata": {},
   "outputs": [],
   "source": [
    "from sklearn.svm import SVC\n",
    "\n",
    "#creating an object\n",
    "classifier=SVC(random_state=0, kernel='rbf')\n",
    "\n",
    "#fitting the model\n",
    "classifier.fit(X_train, y_train)\n",
    "\n",
    "#predicting values\n",
    "y_pred3=classifier.predict(X_test)"
   ]
  },
  {
   "cell_type": "markdown",
   "metadata": {},
   "source": [
    "#### Model Evaluation"
   ]
  },
  {
   "cell_type": "code",
   "execution_count": 69,
   "metadata": {},
   "outputs": [],
   "source": [
    "#calculating the values to evaluate model performance.\n",
    "acc3=accuracy_score(y_test,y_pred3)\n",
    "prec3=precision_score(y_test,y_pred3)\n",
    "rec3=recall_score(y_test,y_pred3)\n",
    "f13=f1_score(y_test,y_pred3)\n",
    "\n",
    "model_results3=pd.DataFrame([['SVM (rbf)',acc3, prec3, rec3, f13]],\n",
    "                     columns=['Model','Accuracy','Precision','Recall','F1 score'])\n",
    "\n",
    "results=results.append(model_results3, ignore_index=True)"
   ]
  },
  {
   "cell_type": "code",
   "execution_count": 70,
   "metadata": {},
   "outputs": [
    {
     "data": {
      "text/html": [
       "<div>\n",
       "<style scoped>\n",
       "    .dataframe tbody tr th:only-of-type {\n",
       "        vertical-align: middle;\n",
       "    }\n",
       "\n",
       "    .dataframe tbody tr th {\n",
       "        vertical-align: top;\n",
       "    }\n",
       "\n",
       "    .dataframe thead th {\n",
       "        text-align: right;\n",
       "    }\n",
       "</style>\n",
       "<table border=\"1\" class=\"dataframe\">\n",
       "  <thead>\n",
       "    <tr style=\"text-align: right;\">\n",
       "      <th></th>\n",
       "      <th>Model</th>\n",
       "      <th>Accuracy</th>\n",
       "      <th>Precision</th>\n",
       "      <th>Recall</th>\n",
       "      <th>F1 score</th>\n",
       "    </tr>\n",
       "  </thead>\n",
       "  <tbody>\n",
       "    <tr>\n",
       "      <th>0</th>\n",
       "      <td>Logistic Regression</td>\n",
       "      <td>0.562535</td>\n",
       "      <td>0.576386</td>\n",
       "      <td>0.706432</td>\n",
       "      <td>0.634817</td>\n",
       "    </tr>\n",
       "    <tr>\n",
       "      <th>1</th>\n",
       "      <td>SVM (linear)</td>\n",
       "      <td>0.568398</td>\n",
       "      <td>0.577769</td>\n",
       "      <td>0.735996</td>\n",
       "      <td>0.647354</td>\n",
       "    </tr>\n",
       "    <tr>\n",
       "      <th>2</th>\n",
       "      <td>SVM (rbf)</td>\n",
       "      <td>0.591569</td>\n",
       "      <td>0.605730</td>\n",
       "      <td>0.690871</td>\n",
       "      <td>0.645505</td>\n",
       "    </tr>\n",
       "  </tbody>\n",
       "</table>\n",
       "</div>"
      ],
      "text/plain": [
       "                 Model  Accuracy  Precision    Recall  F1 score\n",
       "0  Logistic Regression  0.562535   0.576386  0.706432  0.634817\n",
       "1         SVM (linear)  0.568398   0.577769  0.735996  0.647354\n",
       "2            SVM (rbf)  0.591569   0.605730  0.690871  0.645505"
      ]
     },
     "execution_count": 70,
     "metadata": {},
     "output_type": "execute_result"
    }
   ],
   "source": [
    "results"
   ]
  },
  {
   "cell_type": "markdown",
   "metadata": {},
   "source": [
    "### 4) Random Forest"
   ]
  },
  {
   "cell_type": "code",
   "execution_count": 73,
   "metadata": {},
   "outputs": [],
   "source": [
    "from sklearn.ensemble import RandomForestClassifier\n",
    "\n",
    "#creating an object\n",
    "classifier=RandomForestClassifier(random_state=0,\n",
    "                                  n_estimators=100,\n",
    "                                 criterion='entropy')\n",
    "#fitting the model\n",
    "classifier.fit(X_train, y_train)\n",
    "\n",
    "#predicting the values\n",
    "y_pred3=classifier.predict(X_test)"
   ]
  },
  {
   "cell_type": "markdown",
   "metadata": {},
   "source": [
    "#### Model Evaluation"
   ]
  },
  {
   "cell_type": "code",
   "execution_count": 74,
   "metadata": {},
   "outputs": [],
   "source": [
    "#calculating the values to evaluate model performance.\n",
    "acc3=accuracy_score(y_test,y_pred3)\n",
    "prec3=precision_score(y_test,y_pred3)\n",
    "rec3=recall_score(y_test,y_pred3)\n",
    "f13=f1_score(y_test,y_pred3)\n",
    "\n",
    "model_results3=pd.DataFrame([['Random Forest',acc3, prec3, rec3, f13]],\n",
    "                     columns=['Model','Accuracy','Precision','Recall','F1 score'])\n",
    "\n",
    "results=results.append(model_results3, ignore_index=True)"
   ]
  },
  {
   "cell_type": "code",
   "execution_count": 75,
   "metadata": {},
   "outputs": [
    {
     "data": {
      "text/html": [
       "<div>\n",
       "<style scoped>\n",
       "    .dataframe tbody tr th:only-of-type {\n",
       "        vertical-align: middle;\n",
       "    }\n",
       "\n",
       "    .dataframe tbody tr th {\n",
       "        vertical-align: top;\n",
       "    }\n",
       "\n",
       "    .dataframe thead th {\n",
       "        text-align: right;\n",
       "    }\n",
       "</style>\n",
       "<table border=\"1\" class=\"dataframe\">\n",
       "  <thead>\n",
       "    <tr style=\"text-align: right;\">\n",
       "      <th></th>\n",
       "      <th>Model</th>\n",
       "      <th>Accuracy</th>\n",
       "      <th>Precision</th>\n",
       "      <th>Recall</th>\n",
       "      <th>F1 score</th>\n",
       "    </tr>\n",
       "  </thead>\n",
       "  <tbody>\n",
       "    <tr>\n",
       "      <th>0</th>\n",
       "      <td>Logistic Regression</td>\n",
       "      <td>0.562535</td>\n",
       "      <td>0.576386</td>\n",
       "      <td>0.706432</td>\n",
       "      <td>0.634817</td>\n",
       "    </tr>\n",
       "    <tr>\n",
       "      <th>1</th>\n",
       "      <td>SVM (linear)</td>\n",
       "      <td>0.568398</td>\n",
       "      <td>0.577769</td>\n",
       "      <td>0.735996</td>\n",
       "      <td>0.647354</td>\n",
       "    </tr>\n",
       "    <tr>\n",
       "      <th>2</th>\n",
       "      <td>SVM (rbf)</td>\n",
       "      <td>0.591569</td>\n",
       "      <td>0.605730</td>\n",
       "      <td>0.690871</td>\n",
       "      <td>0.645505</td>\n",
       "    </tr>\n",
       "    <tr>\n",
       "      <th>3</th>\n",
       "      <td>Random Forest</td>\n",
       "      <td>0.621720</td>\n",
       "      <td>0.640098</td>\n",
       "      <td>0.678942</td>\n",
       "      <td>0.658948</td>\n",
       "    </tr>\n",
       "  </tbody>\n",
       "</table>\n",
       "</div>"
      ],
      "text/plain": [
       "                 Model  Accuracy  Precision    Recall  F1 score\n",
       "0  Logistic Regression  0.562535   0.576386  0.706432  0.634817\n",
       "1         SVM (linear)  0.568398   0.577769  0.735996  0.647354\n",
       "2            SVM (rbf)  0.591569   0.605730  0.690871  0.645505\n",
       "3        Random Forest  0.621720   0.640098  0.678942  0.658948"
      ]
     },
     "execution_count": 75,
     "metadata": {},
     "output_type": "execute_result"
    }
   ],
   "source": [
    "results"
   ]
  },
  {
   "cell_type": "markdown",
   "metadata": {},
   "source": [
    "#### K-fold cross validation on Random Forest"
   ]
  },
  {
   "cell_type": "code",
   "execution_count": 77,
   "metadata": {},
   "outputs": [
    {
     "name": "stdout",
     "output_type": "stream",
     "text": [
      "Random Forest Classifier accuracy: 0.63 (+/- 0.03)\n"
     ]
    }
   ],
   "source": [
    "from sklearn.model_selection import cross_val_score\n",
    "\n",
    "#creating a 10 fold Cross-validation\n",
    "accuracies=cross_val_score(estimator=classifier,\n",
    "                           X=X_train,\n",
    "                           y=y_train,\n",
    "                           cv=10)\n",
    "print(\"Random Forest Classifier accuracy: %0.2f (+/- %0.2f)\" %(accuracies.mean(),accuracies.std()*2))\n"
   ]
  },
  {
   "cell_type": "markdown",
   "metadata": {},
   "source": [
    " ## Step 5) Parameter Tuning"
   ]
  },
  {
   "cell_type": "markdown",
   "metadata": {},
   "source": [
    "### Applying Grid Search"
   ]
  },
  {
   "cell_type": "markdown",
   "metadata": {},
   "source": [
    "Grid search applies various parameters to the model and checks which performs the best on our dataset"
   ]
  },
  {
   "cell_type": "markdown",
   "metadata": {},
   "source": [
    "#### Round1-Entropy"
   ]
  },
  {
   "cell_type": "code",
   "execution_count": 84,
   "metadata": {},
   "outputs": [],
   "source": [
    "paramters={'max_depth':[3,None], #default is none\n",
    "           'max_features':[1,5,10],\n",
    "           'min_samples_split':[2,5,10], #default is 2\n",
    "           'min_samples_leaf':[1,5,10],\n",
    "           'bootstrap':[True, False],\n",
    "           'criterion':['entropy']}"
   ]
  },
  {
   "cell_type": "code",
   "execution_count": 85,
   "metadata": {},
   "outputs": [],
   "source": [
    "from sklearn.model_selection import GridSearchCV\n",
    "\n",
    "#creating an object\n",
    "grid_search=GridSearchCV(estimator=classifier,  #random forest\n",
    "                        param_grid=paramters,\n",
    "                        scoring='accuracy',\n",
    "                        cv=10,\n",
    "                        n_jobs=-1) #use everything available"
   ]
  },
  {
   "cell_type": "code",
   "execution_count": 86,
   "metadata": {},
   "outputs": [],
   "source": [
    "t0=time.time()\n",
    "grid_search=grid_search.fit(X_train,y_train)\n",
    "t1=time.time() #to calculate the time it took to run the model"
   ]
  },
  {
   "cell_type": "code",
   "execution_count": 87,
   "metadata": {},
   "outputs": [
    {
     "name": "stdout",
     "output_type": "stream",
     "text": [
      "Took 1135.05 seconds\n"
     ]
    }
   ],
   "source": [
    "#printing the total running time\n",
    "print(\"Took %0.2f seconds\" % (t1-t0))"
   ]
  },
  {
   "cell_type": "code",
   "execution_count": 88,
   "metadata": {},
   "outputs": [
    {
     "data": {
      "text/plain": [
       "(0.6345122647725013,\n",
       " {'bootstrap': True,\n",
       "  'criterion': 'entropy',\n",
       "  'max_depth': None,\n",
       "  'max_features': 5,\n",
       "  'min_samples_leaf': 5,\n",
       "  'min_samples_split': 2})"
      ]
     },
     "execution_count": 88,
     "metadata": {},
     "output_type": "execute_result"
    }
   ],
   "source": [
    "#printing the best values\n",
    "rf_best_accuracy=grid_search.best_score_\n",
    "rf_best_params=grid_search.best_params_\n",
    "rf_best_accuracy, rf_best_params"
   ]
  },
  {
   "cell_type": "markdown",
   "metadata": {},
   "source": [
    "#### Round2-Entropy"
   ]
  },
  {
   "cell_type": "code",
   "execution_count": 89,
   "metadata": {},
   "outputs": [],
   "source": [
    "paramters={'max_depth':[None], #default is none\n",
    "           'max_features':[3,5,7],\n",
    "           'min_samples_split':[2,5,6], #default is 2\n",
    "           'min_samples_leaf':[4,5,6],\n",
    "           'bootstrap':[True],\n",
    "           'criterion':['entropy']}"
   ]
  },
  {
   "cell_type": "code",
   "execution_count": 90,
   "metadata": {},
   "outputs": [],
   "source": [
    "from sklearn.model_selection import GridSearchCV\n",
    "\n",
    "grid_search=GridSearchCV(estimator=classifier,  #random forest\n",
    "                        param_grid=paramters,\n",
    "                        scoring='accuracy',\n",
    "                        cv=10,\n",
    "                        n_jobs=-1) #use everything available"
   ]
  },
  {
   "cell_type": "code",
   "execution_count": 91,
   "metadata": {},
   "outputs": [],
   "source": [
    "t0=time.time()\n",
    "grid_search=grid_search.fit(X_train,y_train)\n",
    "t1=time.time()"
   ]
  },
  {
   "cell_type": "code",
   "execution_count": 92,
   "metadata": {},
   "outputs": [
    {
     "name": "stdout",
     "output_type": "stream",
     "text": [
      "Took 258.56 seconds\n"
     ]
    }
   ],
   "source": [
    "print(\"Took %0.2f seconds\" % (t1-t0))"
   ]
  },
  {
   "cell_type": "code",
   "execution_count": 93,
   "metadata": {},
   "outputs": [
    {
     "data": {
      "text/plain": [
       "(0.6348606470778575,\n",
       " {'bootstrap': True,\n",
       "  'criterion': 'entropy',\n",
       "  'max_depth': None,\n",
       "  'max_features': 7,\n",
       "  'min_samples_leaf': 6,\n",
       "  'min_samples_split': 2})"
      ]
     },
     "execution_count": 93,
     "metadata": {},
     "output_type": "execute_result"
    }
   ],
   "source": [
    "#printing the best values\n",
    "rf_best_accuracy=grid_search.best_score_\n",
    "rf_best_params=grid_search.best_params_\n",
    "rf_best_accuracy, rf_best_params"
   ]
  },
  {
   "cell_type": "markdown",
   "metadata": {},
   "source": [
    "**This provides the highest accuracy!**"
   ]
  },
  {
   "cell_type": "code",
   "execution_count": 94,
   "metadata": {},
   "outputs": [],
   "source": [
    "y_pred4=grid_search.predict(X_test)"
   ]
  },
  {
   "cell_type": "code",
   "execution_count": 95,
   "metadata": {},
   "outputs": [
    {
     "data": {
      "text/html": [
       "<div>\n",
       "<style scoped>\n",
       "    .dataframe tbody tr th:only-of-type {\n",
       "        vertical-align: middle;\n",
       "    }\n",
       "\n",
       "    .dataframe tbody tr th {\n",
       "        vertical-align: top;\n",
       "    }\n",
       "\n",
       "    .dataframe thead th {\n",
       "        text-align: right;\n",
       "    }\n",
       "</style>\n",
       "<table border=\"1\" class=\"dataframe\">\n",
       "  <thead>\n",
       "    <tr style=\"text-align: right;\">\n",
       "      <th></th>\n",
       "      <th>Model</th>\n",
       "      <th>Accuracy</th>\n",
       "      <th>Precision</th>\n",
       "      <th>Recall</th>\n",
       "      <th>F1 score</th>\n",
       "    </tr>\n",
       "  </thead>\n",
       "  <tbody>\n",
       "    <tr>\n",
       "      <th>0</th>\n",
       "      <td>Logistic Regression</td>\n",
       "      <td>0.562535</td>\n",
       "      <td>0.576386</td>\n",
       "      <td>0.706432</td>\n",
       "      <td>0.634817</td>\n",
       "    </tr>\n",
       "    <tr>\n",
       "      <th>1</th>\n",
       "      <td>SVM (linear)</td>\n",
       "      <td>0.568398</td>\n",
       "      <td>0.577769</td>\n",
       "      <td>0.735996</td>\n",
       "      <td>0.647354</td>\n",
       "    </tr>\n",
       "    <tr>\n",
       "      <th>2</th>\n",
       "      <td>SVM (rbf)</td>\n",
       "      <td>0.591569</td>\n",
       "      <td>0.605730</td>\n",
       "      <td>0.690871</td>\n",
       "      <td>0.645505</td>\n",
       "    </tr>\n",
       "    <tr>\n",
       "      <th>3</th>\n",
       "      <td>Random Forest</td>\n",
       "      <td>0.621720</td>\n",
       "      <td>0.640098</td>\n",
       "      <td>0.678942</td>\n",
       "      <td>0.658948</td>\n",
       "    </tr>\n",
       "    <tr>\n",
       "      <th>4</th>\n",
       "      <td>Random Forest (GS*2+Entropy)</td>\n",
       "      <td>0.626466</td>\n",
       "      <td>0.641148</td>\n",
       "      <td>0.695021</td>\n",
       "      <td>0.666999</td>\n",
       "    </tr>\n",
       "  </tbody>\n",
       "</table>\n",
       "</div>"
      ],
      "text/plain": [
       "                          Model  Accuracy  Precision    Recall  F1 score\n",
       "0           Logistic Regression  0.562535   0.576386  0.706432  0.634817\n",
       "1                  SVM (linear)  0.568398   0.577769  0.735996  0.647354\n",
       "2                     SVM (rbf)  0.591569   0.605730  0.690871  0.645505\n",
       "3                 Random Forest  0.621720   0.640098  0.678942  0.658948\n",
       "4  Random Forest (GS*2+Entropy)  0.626466   0.641148  0.695021  0.666999"
      ]
     },
     "execution_count": 95,
     "metadata": {},
     "output_type": "execute_result"
    }
   ],
   "source": [
    "acc4=accuracy_score(y_test,y_pred4)\n",
    "prec4=precision_score(y_test,y_pred4)\n",
    "rec4=recall_score(y_test,y_pred4)\n",
    "f14=f1_score(y_test,y_pred4)\n",
    "\n",
    "model_results3=pd.DataFrame([['Random Forest (GS*2+Entropy)',acc4, prec4, rec4, f14]],\n",
    "                     columns=['Model','Accuracy','Precision','Recall','F1 score'])\n",
    "\n",
    "results=results.append(model_results3, ignore_index=True)\n",
    "results"
   ]
  },
  {
   "cell_type": "markdown",
   "metadata": {},
   "source": [
    "### Round1-Gini"
   ]
  },
  {
   "cell_type": "code",
   "execution_count": 96,
   "metadata": {},
   "outputs": [
    {
     "name": "stdout",
     "output_type": "stream",
     "text": [
      "Took 740.13 seconds\n"
     ]
    },
    {
     "data": {
      "text/plain": [
       "(0.6353512282315882,\n",
       " {'bootstrap': True,\n",
       "  'criterion': 'gini',\n",
       "  'max_depth': None,\n",
       "  'max_features': 10,\n",
       "  'min_samples_leaf': 5,\n",
       "  'min_samples_split': 2})"
      ]
     },
     "execution_count": 96,
     "metadata": {},
     "output_type": "execute_result"
    }
   ],
   "source": [
    "paramters={'max_depth':[3,None], #default is none\n",
    "           'max_features':[1,5,10],\n",
    "           'min_samples_split':[2,5,10], #default is 2\n",
    "           'min_samples_leaf':[1,5,10],\n",
    "           'bootstrap':[True, False],\n",
    "           'criterion':['gini']}\n",
    "\n",
    "from sklearn.model_selection import GridSearchCV\n",
    "\n",
    "grid_search=GridSearchCV(estimator=classifier,  #random forest\n",
    "                        param_grid=paramters,\n",
    "                        scoring='accuracy',\n",
    "                        cv=10,\n",
    "                        n_jobs=-1) #use everything available\n",
    "\n",
    "#calculating the time it took to run the model\n",
    "t0=time.time()\n",
    "grid_search=grid_search.fit(X_train,y_train)\n",
    "t1=time.time()\n",
    "\n",
    "print(\"Took %0.2f seconds\" % (t1-t0))\n",
    "\n",
    "#printing the best values\n",
    "rf_best_accuracy=grid_search.best_score_\n",
    "rf_best_params=grid_search.best_params_\n",
    "rf_best_accuracy, rf_best_params\n",
    "\n"
   ]
  },
  {
   "cell_type": "markdown",
   "metadata": {},
   "source": [
    "### Round2-Gini"
   ]
  },
  {
   "cell_type": "code",
   "execution_count": 97,
   "metadata": {},
   "outputs": [
    {
     "name": "stdout",
     "output_type": "stream",
     "text": [
      "Took 304.49 seconds\n"
     ]
    },
    {
     "data": {
      "text/plain": [
       "(0.6353512282315882,\n",
       " {'bootstrap': True,\n",
       "  'criterion': 'gini',\n",
       "  'max_depth': None,\n",
       "  'max_features': 10,\n",
       "  'min_samples_leaf': 5,\n",
       "  'min_samples_split': 2})"
      ]
     },
     "execution_count": 97,
     "metadata": {},
     "output_type": "execute_result"
    }
   ],
   "source": [
    "paramters={'max_depth':[None], #default is none\n",
    "           'max_features':[8,10,12],\n",
    "           'min_samples_split':[2,5,6], #default is 2\n",
    "           'min_samples_leaf':[4,5,6],\n",
    "           'bootstrap':[True],\n",
    "           'criterion':['gini']}\n",
    "\n",
    "from sklearn.model_selection import GridSearchCV\n",
    "\n",
    "grid_search=GridSearchCV(estimator=classifier,  #random forest\n",
    "                        param_grid=paramters,\n",
    "                        scoring='accuracy',\n",
    "                        cv=10,\n",
    "                        n_jobs=-1) #use everything available\n",
    "\n",
    "#calculating the time needed to run the model\n",
    "t0=time.time()\n",
    "grid_search=grid_search.fit(X_train,y_train)\n",
    "t1=time.time()\n",
    "\n",
    "print(\"Took %0.2f seconds\" % (t1-t0))\n",
    "\n",
    "#printing the best values\n",
    "rf_best_accuracy=grid_search.best_score_\n",
    "rf_best_params=grid_search.best_params_\n",
    "rf_best_accuracy, rf_best_params"
   ]
  },
  {
   "cell_type": "code",
   "execution_count": 98,
   "metadata": {},
   "outputs": [],
   "source": [
    "y_pred5=grid_search.predict(X_test)"
   ]
  },
  {
   "cell_type": "code",
   "execution_count": 99,
   "metadata": {},
   "outputs": [
    {
     "data": {
      "text/html": [
       "<div>\n",
       "<style scoped>\n",
       "    .dataframe tbody tr th:only-of-type {\n",
       "        vertical-align: middle;\n",
       "    }\n",
       "\n",
       "    .dataframe tbody tr th {\n",
       "        vertical-align: top;\n",
       "    }\n",
       "\n",
       "    .dataframe thead th {\n",
       "        text-align: right;\n",
       "    }\n",
       "</style>\n",
       "<table border=\"1\" class=\"dataframe\">\n",
       "  <thead>\n",
       "    <tr style=\"text-align: right;\">\n",
       "      <th></th>\n",
       "      <th>Model</th>\n",
       "      <th>Accuracy</th>\n",
       "      <th>Precision</th>\n",
       "      <th>Recall</th>\n",
       "      <th>F1 score</th>\n",
       "    </tr>\n",
       "  </thead>\n",
       "  <tbody>\n",
       "    <tr>\n",
       "      <th>0</th>\n",
       "      <td>Logistic Regression</td>\n",
       "      <td>0.562535</td>\n",
       "      <td>0.576386</td>\n",
       "      <td>0.706432</td>\n",
       "      <td>0.634817</td>\n",
       "    </tr>\n",
       "    <tr>\n",
       "      <th>1</th>\n",
       "      <td>SVM (linear)</td>\n",
       "      <td>0.568398</td>\n",
       "      <td>0.577769</td>\n",
       "      <td>0.735996</td>\n",
       "      <td>0.647354</td>\n",
       "    </tr>\n",
       "    <tr>\n",
       "      <th>2</th>\n",
       "      <td>SVM (rbf)</td>\n",
       "      <td>0.591569</td>\n",
       "      <td>0.605730</td>\n",
       "      <td>0.690871</td>\n",
       "      <td>0.645505</td>\n",
       "    </tr>\n",
       "    <tr>\n",
       "      <th>3</th>\n",
       "      <td>Random Forest</td>\n",
       "      <td>0.621720</td>\n",
       "      <td>0.640098</td>\n",
       "      <td>0.678942</td>\n",
       "      <td>0.658948</td>\n",
       "    </tr>\n",
       "    <tr>\n",
       "      <th>4</th>\n",
       "      <td>Random Forest (GS*2+Entropy)</td>\n",
       "      <td>0.626466</td>\n",
       "      <td>0.641148</td>\n",
       "      <td>0.695021</td>\n",
       "      <td>0.666999</td>\n",
       "    </tr>\n",
       "    <tr>\n",
       "      <th>5</th>\n",
       "      <td>Random Forest (GS*2+Gini)</td>\n",
       "      <td>0.639587</td>\n",
       "      <td>0.653494</td>\n",
       "      <td>0.703320</td>\n",
       "      <td>0.677492</td>\n",
       "    </tr>\n",
       "  </tbody>\n",
       "</table>\n",
       "</div>"
      ],
      "text/plain": [
       "                          Model  Accuracy  Precision    Recall  F1 score\n",
       "0           Logistic Regression  0.562535   0.576386  0.706432  0.634817\n",
       "1                  SVM (linear)  0.568398   0.577769  0.735996  0.647354\n",
       "2                     SVM (rbf)  0.591569   0.605730  0.690871  0.645505\n",
       "3                 Random Forest  0.621720   0.640098  0.678942  0.658948\n",
       "4  Random Forest (GS*2+Entropy)  0.626466   0.641148  0.695021  0.666999\n",
       "5     Random Forest (GS*2+Gini)  0.639587   0.653494  0.703320  0.677492"
      ]
     },
     "execution_count": 99,
     "metadata": {},
     "output_type": "execute_result"
    }
   ],
   "source": [
    "acc5=accuracy_score(y_test,y_pred5)\n",
    "prec5=precision_score(y_test,y_pred5)\n",
    "rec5=recall_score(y_test,y_pred5)\n",
    "f15=f1_score(y_test,y_pred5)\n",
    "\n",
    "model_results3=pd.DataFrame([['Random Forest (GS*2+Gini)',acc5, prec5, rec5, f15]],\n",
    "                     columns=['Model','Accuracy','Precision','Recall','F1 score'])\n",
    "\n",
    "results=results.append(model_results3, ignore_index=True)\n",
    "results"
   ]
  },
  {
   "cell_type": "markdown",
   "metadata": {},
   "source": [
    "## Formatting Final Results"
   ]
  },
  {
   "cell_type": "code",
   "execution_count": 101,
   "metadata": {},
   "outputs": [],
   "source": [
    "#summing everything into a final dataframe\n",
    "final_results=pd.concat([y_test, user],axis=1).dropna()\n",
    "final_results['predictions']=y_pred5\n",
    "final_results=final_results[['entry_id','e_signed','predictions']]\n",
    "final_results.head()"
   ]
  },
  {
   "cell_type": "markdown",
   "metadata": {},
   "source": [
    "## Step 6) Conclusion"
   ]
  },
  {
   "cell_type": "markdown",
   "metadata": {},
   "source": [
    "* Our model has given an accuracy of 64%.\n",
    "\n",
    "* One way to use this model is to target those predicted not to reach the e-signing phase with customized onboarding.\n",
    "\n",
    "* With the new onboarding screens built intentionally to lead users to finalize the loan application, we can attempt to get more than 40% of those predicted not to finish the process and complete the e-sign up step.\n",
    "\n",
    "* Increasing the number of loans provided will increase the profit for the lending company."
   ]
  }
 ],
 "metadata": {
  "kernelspec": {
   "display_name": "Python 3",
   "language": "python",
   "name": "python3"
  },
  "language_info": {
   "codemirror_mode": {
    "name": "ipython",
    "version": 3
   },
   "file_extension": ".py",
   "mimetype": "text/x-python",
   "name": "python",
   "nbconvert_exporter": "python",
   "pygments_lexer": "ipython3",
   "version": "3.8.5"
  }
 },
 "nbformat": 4,
 "nbformat_minor": 4
}
